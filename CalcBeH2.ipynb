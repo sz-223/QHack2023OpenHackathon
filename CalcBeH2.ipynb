{
 "cells": [
  {
   "cell_type": "code",
   "execution_count": null,
   "id": "e14ac4a9",
   "metadata": {},
   "outputs": [],
   "source": [
    "! pip install pennylane-lightning[gpu]"
   ]
  },
  {
   "cell_type": "code",
   "execution_count": 1,
   "id": "8684a160-253d-4426-87e0-1f6ac1270455",
   "metadata": {},
   "outputs": [],
   "source": [
    "import pennylane as qml\n",
    "import pennylane.numpy as np\n",
    "from pennylane.templates import ApproxTimeEvolution"
   ]
  },
  {
   "cell_type": "code",
   "execution_count": 3,
   "id": "83ea6219-a394-465b-afec-74f1d155e7ef",
   "metadata": {},
   "outputs": [],
   "source": [
    "dev = qml.device(\"default.qubit\", wires=15)\n",
    "# 0: ancillary, 1 ~ 14: LUMO+3 α β, LUMO+2 α β, ... , HOMO-2 α β"
   ]
  },
  {
   "cell_type": "code",
   "execution_count": 4,
   "id": "61585e88-f924-4245-a449-a991f8118a95",
   "metadata": {},
   "outputs": [],
   "source": [
    "def Prep():\n",
    "    qml.CNOT(wires=[0, 9])\n",
    "    qml.CNOT(wires=[0, 10])    \n",
    "    qml.CNOT(wires=[0, 11])    \n",
    "    qml.CNOT(wires=[0, 12])    \n",
    "    qml.CNOT(wires=[0, 13])    \n",
    "    qml.CNOT(wires=[0, 14])\n",
    "    angle = - 1 * np.arccos(np.sqrt(1/10))\n",
    "    qml.CRY(angle, wires=[0, 4])\n",
    "    qml.CNOT(wires=[4, 3])\n",
    "    qml.CNOT(wires=[4, 13])\n",
    "    qml.CNOT(wires=[4, 14])\n",
    "    \n",
    "def Prep_inv():\n",
    "    qml.CNOT(wires=[4, 14])\n",
    "    qml.CNOT(wires=[4, 13])\n",
    "    qml.CNOT(wires=[4, 3])\n",
    "    angle = np.arccos(np.sqrt(1/10))\n",
    "    qml.CRY(angle, wires=[0, 4])\n",
    "    qml.CNOT(wires=[0, 14])\n",
    "    qml.CNOT(wires=[0, 13])    \n",
    "    qml.CNOT(wires=[0, 12])    \n",
    "    qml.CNOT(wires=[0, 11])    \n",
    "    qml.CNOT(wires=[0, 10])    \n",
    "    qml.CNOT(wires=[0, 9])    "
   ]
  },
  {
   "cell_type": "code",
   "execution_count": 5,
   "id": "a5f8a33b-703a-433e-9d55-ecedabf644a9",
   "metadata": {},
   "outputs": [],
   "source": [
    "def make_hamiltonian(distance):\n",
    "    symbols, coordinates = (['Be', 'H', 'H'], np.array([0., 0., 0., 0., 0., -distance, 0., 0., distance]))\n",
    "    H, qubits = qml.qchem.molecular_hamiltonian(symbols, coordinates, \n",
    "                                                mapping='jordan_wigner',#'bravyi_kitaev', \n",
    "                                                wires=[i + 1 for i in range(14)])\n",
    "    return H"
   ]
  },
  {
   "cell_type": "code",
   "execution_count": 9,
   "id": "1f7a8cf6-af98-4cbc-bdd1-199fe4f020bd",
   "metadata": {},
   "outputs": [],
   "source": [
    "@qml.qnode(dev)\n",
    "def circuit(distance, epsilon, time=2.0, trotterN=10):\n",
    "    qml.Hadamard(wires=0)\n",
    "    Prep()\n",
    "    H = make_hamiltonian(distance)\n",
    "    ApproxTimeEvolution(H, time, trotterN)\n",
    "    Prep_inv()\n",
    "    qml.PhaseShift(epsilon * time, wires=0)\n",
    "    qml.Hadamard(wires=0)\n",
    "    return qml.probs(wires=[0])"
   ]
  },
  {
   "cell_type": "code",
   "execution_count": null,
   "id": "f551208a-fa89-4ae8-9469-912775a23d6c",
   "metadata": {},
   "outputs": [],
   "source": [
    "circuit(1.4, 3)"
   ]
  },
  {
   "cell_type": "code",
   "execution_count": null,
   "id": "afedcf91-f70a-4fcc-9df2-4fdec57feefc",
   "metadata": {},
   "outputs": [],
   "source": []
  }
 ],
 "metadata": {
  "kernelspec": {
   "display_name": "PennyLane",
   "language": "python",
   "name": "pennylane"
  },
  "language_info": {
   "codemirror_mode": {
    "name": "ipython",
    "version": 3
   },
   "file_extension": ".py",
   "mimetype": "text/x-python",
   "name": "python",
   "nbconvert_exporter": "python",
   "pygments_lexer": "ipython3",
   "version": "3.9.15"
  }
 },
 "nbformat": 4,
 "nbformat_minor": 5
}
