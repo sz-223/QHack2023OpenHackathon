{
  "cells": [
    {
      "cell_type": "code",
      "execution_count": null,
      "id": "e14ac4a9",
      "metadata": {
        "id": "e14ac4a9"
      },
      "outputs": [],
      "source": [
        "! pip install pennylane-lightning[gpu]"
      ]
    },
    {
      "cell_type": "code",
      "execution_count": 2,
      "id": "8684a160-253d-4426-87e0-1f6ac1270455",
      "metadata": {
        "id": "8684a160-253d-4426-87e0-1f6ac1270455"
      },
      "outputs": [],
      "source": [
        "import pennylane as qml\n",
        "import pennylane.numpy as np\n",
        "from pennylane.templates import ApproxTimeEvolution"
      ]
    },
    {
      "cell_type": "markdown",
      "source": [
        "## H2 ground state energy\n",
        "Following the instruction in Sugisaki *et al.*(2021), we first calculate the H2 ground state energy and judge whether the algorithm runs correctly or not."
      ],
      "metadata": {
        "id": "zjsT6dUYUu9M"
      },
      "id": "zjsT6dUYUu9M"
    },
    {
      "cell_type": "code",
      "source": [
        "dev_H2 = qml.device(\"default.qubit\", wires=5)\n",
        "\n",
        "def make_hamiltonian_H2(distance):\n",
        "    symbols, coordinates = (['H', 'H'], np.array([0., 0., -distance/2, 0., 0., distance/2]))\n",
        "    H, qubits = qml.qchem.molecular_hamiltonian(symbols, coordinates, \n",
        "                                                mapping='jordan_wigner',\n",
        "                                                wires=[i + 1 for i in range(4)],\n",
        "                                                active_electrons=2,\n",
        "                                                active_orbitals=2)\n",
        "    return H\n",
        "\n",
        "def Prep_H2():\n",
        "    qml.CNOT(wires=[0,3])\n",
        "    qml.CNOT(wires=[0,4])\n",
        "    angle = np.arccos(np.sqrt(1/2))\n",
        "    qml.RY(-angle, wires=[2])\n",
        "    qml.CNOT(wires=[2,1])\n",
        "    qml.CNOT(wires=[2,3])\n",
        "    qml.CNOT(wires=[2,4])\n",
        "\n",
        "def Prep_inv_H2():\n",
        "    qml.CNOT(wires=[2,4])\n",
        "    qml.CNOT(wires=[2,3])\n",
        "    qml.CNOT(wires=[2,1])\n",
        "    angle = np.arccos(np.sqrt(1/2))\n",
        "    qml.RY(angle, wires=[2])\n",
        "    qml.CNOT(wires=[0,4])\n",
        "    qml.CNOT(wires=[0,3])\n",
        "\n",
        "@qml.qnode(dev_H2)\n",
        "def circuit_H2(distance, epsilon, time=0.5, trotterN=5)\n",
        "    qml.Hadamard(wires=0)\n",
        "    Prep_H2()\n",
        "    H = make_hamiltonian_H2(distance)\n",
        "    ApproxTimeEvolution(H, time, trotterN)\n",
        "    Prep_inv_H2()\n",
        "    qml.PhaseShift(epsilon * time, wires=0)\n",
        "    qml.Hadamard(wires=0)\n",
        "    return qml.probs(wires=0)\n",
        "\n",
        "left = -10\n",
        "right = 10\n",
        "limit = 0.01\n",
        "\n",
        "while left + limit < right:\n",
        "    c1 = left + (right-left)/3\n",
        "    c2 = right - (right-left)/3\n",
        "    if circuit_H2(0.74, c1)[0] > circuit_H2(0.74, c2)[0]:\n",
        "        right = c2\n",
        "    else:\n",
        "        left = c1\n",
        "\n",
        "print(\"H2 ground state energy : \" + str((left + right) / 2) + \" Hartree\")"
      ],
      "metadata": {
        "id": "3h_2rJ4HS0Kn",
        "outputId": "2cfd93ca-6481-44eb-bc5c-21996385a4fc",
        "colab": {
          "base_uri": "https://localhost:8080/"
        }
      },
      "id": "3h_2rJ4HS0Kn",
      "execution_count": 158,
      "outputs": [
        {
          "output_type": "stream",
          "name": "stdout",
          "text": [
            "H2 ground state energy : -0.9454605707925443 Hartree\n"
          ]
        }
      ]
    },
    {
      "cell_type": "markdown",
      "source": [
        "The actual value of H2 ground state energy is -1.174476 hartree, therefore the result of this calculation is close to the actual value.  \n",
        "In the same way, we can calculate the ground state energy of BeH2.  "
      ],
      "metadata": {
        "id": "kkYpF-cKUuBf"
      },
      "id": "kkYpF-cKUuBf"
    },
    {
      "cell_type": "code",
      "execution_count": 159,
      "id": "83ea6219-a394-465b-afec-74f1d155e7ef",
      "metadata": {
        "id": "83ea6219-a394-465b-afec-74f1d155e7ef"
      },
      "outputs": [],
      "source": [
        "dev = qml.device(\"default.qubit\", wires=9)\n",
        "# 0: ancillary, 1 ~ 8: LUMO+1 α β, LUMO α β, ... , HOMO-1 α β"
      ]
    },
    {
      "cell_type": "markdown",
      "source": [
        "# BeH2\n",
        "In previous section, we set the prep circuit with the instruction of the paper, but now in calculating BeH2, there is no great idea to prepare the Prep circuit.  \n",
        "\n",
        "The Prep circuit is applyed to make the qubits express a wave function of ground state. So we can use an optimized VQE ansatz circuit as a Prep circuit instead of a perfect and hard-coded one.  \n",
        "\n",
        "This is the purpose of this project."
      ],
      "metadata": {
        "id": "Cay-ROKbYYiY"
      },
      "id": "Cay-ROKbYYiY"
    },
    {
      "cell_type": "markdown",
      "source": [
        "## Making Hamiltonian"
      ],
      "metadata": {
        "id": "L2vCQhOgJ0OF"
      },
      "id": "L2vCQhOgJ0OF"
    },
    {
      "cell_type": "code",
      "execution_count": 160,
      "id": "a5f8a33b-703a-433e-9d55-ecedabf644a9",
      "metadata": {
        "id": "a5f8a33b-703a-433e-9d55-ecedabf644a9"
      },
      "outputs": [],
      "source": [
        "def make_hamiltonian(distance):\n",
        "    symbols, coordinates = (['Be', 'H', 'H'], np.array([0., 0., 0., 0., 0., -distance, 0., 0., distance]))\n",
        "    H, qubits = qml.qchem.molecular_hamiltonian(symbols, coordinates, \n",
        "                                                mapping='jordan_wigner',\n",
        "                                                wires=[i for i in range(8)],\n",
        "                                                active_electrons=4,\n",
        "                                                active_orbitals=4)\n",
        "                                                #basis='6-31g') # <--- this is optional.\n",
        "    return H"
      ]
    },
    {
      "cell_type": "markdown",
      "source": [
        "## VQE with a few iteration\n",
        "We run a few iteration VQE to find an optimized ansatz to use as a wave function of the ground state."
      ],
      "metadata": {
        "id": "leIAaBMpJ-DL"
      },
      "id": "leIAaBMpJ-DL"
    },
    {
      "cell_type": "code",
      "source": [
        "def ansatz(params, wires=8):\n",
        "  for i in range(wires):\n",
        "    qml.RX(params[0 + 2*i], wires=i+1)\n",
        "    qml.RY(params[1 + 2*i], wires=i+1)\n",
        "  for i in range(int(wires/2)):\n",
        "    qml.CNOT(wires=[2 * i + 1, 2 * i + 2])\n",
        "  for i in range(int(wires/2) - 1):\n",
        "    qml.CNOT(wires=[2 * i + 2, 2 * i + 3])"
      ],
      "metadata": {
        "id": "yU1vFdD_9LeE"
      },
      "id": "yU1vFdD_9LeE",
      "execution_count": 161,
      "outputs": []
    },
    {
      "cell_type": "code",
      "execution_count": 162,
      "id": "afedcf91-f70a-4fcc-9df2-4fdec57feefc",
      "metadata": {
        "id": "afedcf91-f70a-4fcc-9df2-4fdec57feefc"
      },
      "outputs": [],
      "source": [
        "init_params = np.array([np.random.random()]*16, requires_grad=True)\n",
        "\n",
        "max_iterations = 20\n",
        "conv_tol = 1e-06\n",
        "step_size = 0.5"
      ]
    },
    {
      "cell_type": "code",
      "source": [
        "@qml.qnode(dev)\n",
        "def cost_fn(params):\n",
        "    ansatz(params)\n",
        "    return qml.expval(make_hamiltonian(1.3))"
      ],
      "metadata": {
        "id": "1whXhHXI9AJD"
      },
      "id": "1whXhHXI9AJD",
      "execution_count": 163,
      "outputs": []
    },
    {
      "cell_type": "code",
      "source": [
        "opt = qml.GradientDescentOptimizer(stepsize=step_size)\n",
        "\n",
        "params = init_params\n",
        "\n",
        "gd_param_history = [params]\n",
        "gd_cost_history = []\n",
        "\n",
        "for n in range(max_iterations):\n",
        "\n",
        "    # Take step\n",
        "    params, prev_energy = opt.step_and_cost(cost_fn, params)\n",
        "    gd_param_history.append(params)\n",
        "    gd_cost_history.append(prev_energy)\n",
        "\n",
        "    energy = cost_fn(params)\n",
        "\n",
        "    # Calculate difference between new and old energies\n",
        "    conv = np.abs(energy - prev_energy)\n",
        "\n",
        "    if n % 2 == 0:\n",
        "        print(\n",
        "            \"Iteration = {:},  Energy = {:.8f} Ha,  Convergence parameter = {\"\n",
        "            \":.8f} Ha\".format(n, energy, conv)\n",
        "        )\n",
        "\n",
        "    if conv <= conv_tol:\n",
        "        break\n",
        "\n",
        "print()\n",
        "print(\"Final value of the energy = {:.8f} Ha\".format(energy))\n",
        "print(\"Number of iterations = \", n)"
      ],
      "metadata": {
        "id": "Zs3-tYUu8xvj",
        "outputId": "0666d84b-d5a8-47cd-cf93-e2804b9e081c",
        "colab": {
          "base_uri": "https://localhost:8080/"
        }
      },
      "id": "Zs3-tYUu8xvj",
      "execution_count": 164,
      "outputs": [
        {
          "output_type": "stream",
          "name": "stdout",
          "text": [
            "Iteration = 0,  Energy = -13.26771225 Ha,  Convergence parameter = 0.08800343 Ha\n",
            "Iteration = 2,  Energy = -13.36611490 Ha,  Convergence parameter = 0.03995411 Ha\n",
            "Iteration = 4,  Energy = -13.41498152 Ha,  Convergence parameter = 0.02064296 Ha\n",
            "Iteration = 6,  Energy = -13.44277269 Ha,  Convergence parameter = 0.01217530 Ha\n",
            "Iteration = 8,  Energy = -13.46046127 Ha,  Convergence parameter = 0.00795065 Ha\n",
            "Iteration = 10,  Energy = -13.47260147 Ha,  Convergence parameter = 0.00554294 Ha\n",
            "Iteration = 12,  Energy = -13.48132050 Ha,  Convergence parameter = 0.00401730 Ha\n",
            "Iteration = 14,  Energy = -13.48775076 Ha,  Convergence parameter = 0.00297856 Ha\n",
            "Iteration = 16,  Energy = -13.49256896 Ha,  Convergence parameter = 0.00223918 Ha\n",
            "Iteration = 18,  Energy = -13.49621640 Ha,  Convergence parameter = 0.00169891 Ha\n",
            "\n",
            "Final value of the energy = -13.49770029 Ha\n",
            "Number of iterations =  19\n"
          ]
        }
      ]
    },
    {
      "cell_type": "markdown",
      "source": [
        "## Prep Circuit made of Ansatz of VQE\n",
        "Replaced RX, RY gate on ansatz with Controlled-RX, RY gate, respectively."
      ],
      "metadata": {
        "id": "srB3b9cqKLLe"
      },
      "id": "srB3b9cqKLLe"
    },
    {
      "cell_type": "code",
      "source": [
        "def Prep(wires=8):\n",
        "  for i in range(wires):\n",
        "    qml.CRX(params[0 + 2*i], wires=[0, i+1])\n",
        "    qml.CRY(params[1 + 2*i], wires=[0, i+1])\n",
        "  for i in range(int(wires/2)):\n",
        "    qml.CNOT(wires=[2 * i + 1, 2 * i + 2])\n",
        "  for i in range(int(wires/2) - 1):\n",
        "    qml.CNOT(wires=[2 * i + 2, 2 * i + 3])\n",
        "\n",
        "def Prep_inv(wires=8):\n",
        "  for i in reversed(range(int(wires/2) - 1)):\n",
        "    qml.CNOT(wires=[2 * i + 2, 2 * i + 3])\n",
        "  for i in reversed(range(int(wires/2))):\n",
        "    qml.CNOT(wires=[2 * i + 1, 2 * i + 2])\n",
        "  for i in reversed(range(wires)):\n",
        "    qml.CRY(-params[1 + 2*i], wires=[0, i+1])\n",
        "    qml.CRX(-params[0 + 2*i], wires=[0, i+1])\n"
      ],
      "metadata": {
        "id": "-FYfhqwCARFo"
      },
      "id": "-FYfhqwCARFo",
      "execution_count": 165,
      "outputs": []
    },
    {
      "cell_type": "markdown",
      "source": [
        "## Apply circuit and optimization\n",
        "\n",
        "Apply the BPDE circuit in Fig.1 of Sugisaki *et al.*(2021)   \n",
        "If the epsilon approaches to the exact Energy, the probability of observing |0> on the ancillary qubit (wires=[0]) will become closer to 1.  \n",
        "Using this \"function\", we optimize the ground state energy with ternary search algorithm."
      ],
      "metadata": {
        "id": "6aMF6ZzoK9KH"
      },
      "id": "6aMF6ZzoK9KH"
    },
    {
      "cell_type": "code",
      "execution_count": 166,
      "id": "1f7a8cf6-af98-4cbc-bdd1-199fe4f020bd",
      "metadata": {
        "id": "1f7a8cf6-af98-4cbc-bdd1-199fe4f020bd"
      },
      "outputs": [],
      "source": [
        "@qml.qnode(dev)\n",
        "def circuit(distance, epsilon, time=0.5, trotterN=5):\n",
        "    qml.Hadamard(wires=0)\n",
        "    Prep()\n",
        "    H = make_hamiltonian(distance)\n",
        "    ApproxTimeEvolution(H, time, trotterN)\n",
        "    Prep_inv()\n",
        "    qml.PhaseShift(epsilon * time, wires=0)\n",
        "    qml.Hadamard(wires=0)\n",
        "    return qml.probs(wires=0)"
      ]
    },
    {
      "cell_type": "code",
      "source": [
        "left = -20\n",
        "right = -10\n",
        "limit = 0.01\n",
        "\n",
        "while left + limit < right:\n",
        "    c1 = left + (right-left)/3\n",
        "    c2 = right - (right-left)/3\n",
        "    if circuit(1.3, c1)[0] > circuit(1.3, c2)[0]:\n",
        "        right = c2\n",
        "    else:\n",
        "        left = c1\n",
        "\n",
        "print(\"BeH2 ground state energy : \" + str((left + right) / 2) + \" Hartree\")"
      ],
      "metadata": {
        "id": "woMHADE7FhPf",
        "outputId": "9bd5ed5a-3919-4303-cac5-94ff60821cd8",
        "colab": {
          "base_uri": "https://localhost:8080/"
        }
      },
      "id": "woMHADE7FhPf",
      "execution_count": 167,
      "outputs": [
        {
          "output_type": "stream",
          "name": "stdout",
          "text": [
            "BeH2 ground state energy : -16.51539291717739 Hartree\n"
          ]
        }
      ]
    },
    {
      "cell_type": "markdown",
      "source": [
        "### Still have a problem\n",
        "Theoretically, the probability is independent of the evolution time of Hamiltonian.  \n",
        "In reality, however, if we change the evolution time, the probability will be change a little as shown below.  \n",
        "This shows that there is a possibility that the wave function we prepared using an ansatz of VQE is not perfect or that the Hamiltonian is not detailed enough to express BeH2."
      ],
      "metadata": {
        "id": "IFBHG5TPOGqP"
      },
      "id": "IFBHG5TPOGqP"
    },
    {
      "cell_type": "code",
      "execution_count": 168,
      "id": "f551208a-fa89-4ae8-9469-912775a23d6c",
      "metadata": {
        "colab": {
          "base_uri": "https://localhost:8080/"
        },
        "id": "f551208a-fa89-4ae8-9469-912775a23d6c",
        "outputId": "a90a28ba-ea97-4b95-fb49-7d397f3214ef"
      },
      "outputs": [
        {
          "output_type": "stream",
          "name": "stdout",
          "text": [
            "[0.98242042 0.01757958]\n",
            "[0.81261332 0.18738668]\n"
          ]
        }
      ],
      "source": [
        "print(circuit(1.3, -16.52, time=0.5))\n",
        "print(circuit(1.3, -16.52, time=2.0))"
      ]
    }
  ],
  "metadata": {
    "kernelspec": {
      "display_name": "Python 3",
      "name": "python3"
    },
    "language_info": {
      "name": "python"
    },
    "colab": {
      "provenance": []
    },
    "gpuClass": "standard"
  },
  "nbformat": 4,
  "nbformat_minor": 5
}