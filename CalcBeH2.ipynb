{
  "cells": [
    {
      "cell_type": "code",
      "execution_count": 1,
      "id": "e14ac4a9",
      "metadata": {
        "id": "e14ac4a9",
        "outputId": "7fb21c83-d571-4fb2-bcd6-88fc8569efef",
        "colab": {
          "base_uri": "https://localhost:8080/"
        }
      },
      "outputs": [
        {
          "output_type": "stream",
          "name": "stdout",
          "text": [
            "Looking in indexes: https://pypi.org/simple, https://us-python.pkg.dev/colab-wheels/public/simple/\n",
            "Collecting pennylane-lightning[gpu]\n",
            "  Downloading PennyLane_Lightning-0.28.2-cp38-cp38-manylinux_2_17_x86_64.manylinux2014_x86_64.whl (15.3 MB)\n",
            "\u001b[2K     \u001b[90m━━━━━━━━━━━━━━━━━━━━━━━━━━━━━━━━━━━━━━━━\u001b[0m \u001b[32m15.3/15.3 MB\u001b[0m \u001b[31m42.9 MB/s\u001b[0m eta \u001b[36m0:00:00\u001b[0m\n",
            "\u001b[?25hCollecting ninja\n",
            "  Downloading ninja-1.11.1-py2.py3-none-manylinux_2_12_x86_64.manylinux2010_x86_64.whl (145 kB)\n",
            "\u001b[2K     \u001b[90m━━━━━━━━━━━━━━━━━━━━━━━━━━━━━━━━━━━━━━━\u001b[0m \u001b[32m146.0/146.0 KB\u001b[0m \u001b[31m7.6 MB/s\u001b[0m eta \u001b[36m0:00:00\u001b[0m\n",
            "\u001b[?25hCollecting pennylane>=0.28\n",
            "  Downloading PennyLane-0.28.0-py3-none-any.whl (1.3 MB)\n",
            "\u001b[2K     \u001b[90m━━━━━━━━━━━━━━━━━━━━━━━━━━━━━━━━━━━━━━━━\u001b[0m \u001b[32m1.3/1.3 MB\u001b[0m \u001b[31m28.2 MB/s\u001b[0m eta \u001b[36m0:00:00\u001b[0m\n",
            "\u001b[?25hRequirement already satisfied: numpy in /usr/local/lib/python3.8/dist-packages (from pennylane-lightning[gpu]) (1.22.4)\n",
            "Collecting pennylane-lightning-gpu\n",
            "  Downloading PennyLane_Lightning_GPU-0.28.1-cp38-cp38-manylinux_2_17_x86_64.manylinux2014_x86_64.whl (25.3 MB)\n",
            "\u001b[2K     \u001b[90m━━━━━━━━━━━━━━━━━━━━━━━━━━━━━━━━━━━━━━━━\u001b[0m \u001b[32m25.3/25.3 MB\u001b[0m \u001b[31m15.7 MB/s\u001b[0m eta \u001b[36m0:00:00\u001b[0m\n",
            "\u001b[?25hCollecting semantic-version>=2.7\n",
            "  Downloading semantic_version-2.10.0-py2.py3-none-any.whl (15 kB)\n",
            "Collecting autoray>=0.3.1\n",
            "  Downloading autoray-0.6.0-py3-none-any.whl (46 kB)\n",
            "\u001b[2K     \u001b[90m━━━━━━━━━━━━━━━━━━━━━━━━━━━━━━━━━━━━━━━━\u001b[0m \u001b[32m46.4/46.4 KB\u001b[0m \u001b[31m3.4 MB/s\u001b[0m eta \u001b[36m0:00:00\u001b[0m\n",
            "\u001b[?25hRequirement already satisfied: networkx in /usr/local/lib/python3.8/dist-packages (from pennylane>=0.28->pennylane-lightning[gpu]) (3.0)\n",
            "Collecting retworkx\n",
            "  Downloading retworkx-0.12.1-py3-none-any.whl (10 kB)\n",
            "Requirement already satisfied: requests in /usr/local/lib/python3.8/dist-packages (from pennylane>=0.28->pennylane-lightning[gpu]) (2.25.1)\n",
            "Requirement already satisfied: autograd in /usr/local/lib/python3.8/dist-packages (from pennylane>=0.28->pennylane-lightning[gpu]) (1.5)\n",
            "Requirement already satisfied: cachetools in /usr/local/lib/python3.8/dist-packages (from pennylane>=0.28->pennylane-lightning[gpu]) (5.3.0)\n",
            "Requirement already satisfied: appdirs in /usr/local/lib/python3.8/dist-packages (from pennylane>=0.28->pennylane-lightning[gpu]) (1.4.4)\n",
            "Requirement already satisfied: scipy in /usr/local/lib/python3.8/dist-packages (from pennylane>=0.28->pennylane-lightning[gpu]) (1.7.3)\n",
            "Requirement already satisfied: toml in /usr/local/lib/python3.8/dist-packages (from pennylane>=0.28->pennylane-lightning[gpu]) (0.10.2)\n",
            "Requirement already satisfied: cmake in /usr/local/lib/python3.8/dist-packages (from pennylane-lightning-gpu->pennylane-lightning[gpu]) (3.22.6)\n",
            "Requirement already satisfied: wheel in /usr/local/lib/python3.8/dist-packages (from pennylane-lightning-gpu->pennylane-lightning[gpu]) (0.38.4)\n",
            "Requirement already satisfied: future>=0.15.2 in /usr/local/lib/python3.8/dist-packages (from autograd->pennylane>=0.28->pennylane-lightning[gpu]) (0.16.0)\n",
            "Requirement already satisfied: urllib3<1.27,>=1.21.1 in /usr/local/lib/python3.8/dist-packages (from requests->pennylane>=0.28->pennylane-lightning[gpu]) (1.24.3)\n",
            "Requirement already satisfied: idna<3,>=2.5 in /usr/local/lib/python3.8/dist-packages (from requests->pennylane>=0.28->pennylane-lightning[gpu]) (2.10)\n",
            "Requirement already satisfied: chardet<5,>=3.0.2 in /usr/local/lib/python3.8/dist-packages (from requests->pennylane>=0.28->pennylane-lightning[gpu]) (4.0.0)\n",
            "Requirement already satisfied: certifi>=2017.4.17 in /usr/local/lib/python3.8/dist-packages (from requests->pennylane>=0.28->pennylane-lightning[gpu]) (2022.12.7)\n",
            "Collecting rustworkx==0.12.1\n",
            "  Downloading rustworkx-0.12.1-cp38-cp38-manylinux_2_17_x86_64.manylinux2014_x86_64.whl (1.9 MB)\n",
            "\u001b[2K     \u001b[90m━━━━━━━━━━━━━━━━━━━━━━━━━━━━━━━━━━━━━━━━\u001b[0m \u001b[32m1.9/1.9 MB\u001b[0m \u001b[31m53.6 MB/s\u001b[0m eta \u001b[36m0:00:00\u001b[0m\n",
            "\u001b[?25hInstalling collected packages: ninja, semantic-version, rustworkx, autoray, retworkx, pennylane-lightning, pennylane, pennylane-lightning-gpu\n",
            "Successfully installed autoray-0.6.0 ninja-1.11.1 pennylane-0.28.0 pennylane-lightning-0.28.2 pennylane-lightning-gpu-0.28.1 retworkx-0.12.1 rustworkx-0.12.1 semantic-version-2.10.0\n"
          ]
        }
      ],
      "source": [
        "! pip install pennylane-lightning[gpu]"
      ]
    },
    {
      "cell_type": "code",
      "execution_count": 2,
      "id": "8684a160-253d-4426-87e0-1f6ac1270455",
      "metadata": {
        "id": "8684a160-253d-4426-87e0-1f6ac1270455"
      },
      "outputs": [],
      "source": [
        "import pennylane as qml\n",
        "import pennylane.numpy as np\n",
        "from pennylane.templates import ApproxTimeEvolution"
      ]
    },
    {
      "cell_type": "code",
      "execution_count": 3,
      "id": "83ea6219-a394-465b-afec-74f1d155e7ef",
      "metadata": {
        "id": "83ea6219-a394-465b-afec-74f1d155e7ef"
      },
      "outputs": [],
      "source": [
        "dev = qml.device(\"default.qubit\", wires=9)\n",
        "# 0: ancillary, 1 ~ 14: LUMO+3 α β, LUMO+2 α β, ... , HOMO-2 α β"
      ]
    },
    {
      "cell_type": "code",
      "source": [
        "def Prep():\n",
        "    qml.CNOT(wires=[0, 5])\n",
        "    qml.CNOT(wires=[0, 6])\n",
        "    angle = - 2 * np.arccos(np.sqrt(1/2))\n",
        "    qml.CRY(angle, wires=[0, 4])\n",
        "    qml.CNOT(wires=[4, 3])\n",
        "    qml.CNOT(wires=[4, 5])\n",
        "    qml.CNOT(wires=[4, 6])\n",
        "\n",
        "    qml.CNOT(wires=[0, 7])\n",
        "    qml.CNOT(wires=[0, 8])\n",
        "    qml.CRY(angle, wires=[0, 2])\n",
        "    qml.CNOT(wires=[2, 1])\n",
        "    qml.CNOT(wires=[2, 7])\n",
        "    qml.CNOT(wires=[2, 8])\n",
        "\n",
        "def Prep_inv():\n",
        "    qml.CNOT(wires=[2, 8])\n",
        "    qml.CNOT(wires=[2, 7])\n",
        "    qml.CNOT(wires=[2, 1])\n",
        "    angle = - 2 * np.arccos(np.sqrt(1/2))\n",
        "    qml.CRY(-angle, wires=[0, 2])\n",
        "    qml.CNOT(wires=[0, 8])\n",
        "    qml.CNOT(wires=[0, 7])\n",
        "\n",
        "    qml.CNOT(wires=[4, 6])\n",
        "    qml.CNOT(wires=[4, 5])\n",
        "    qml.CNOT(wires=[4, 3])\n",
        "    qml.CRY(-angle, wires=[0, 4])\n",
        "    qml.CNOT(wires=[0, 6])\n",
        "    qml.CNOT(wires=[0, 5])"
      ],
      "metadata": {
        "id": "VFEWc6ifTF0z"
      },
      "id": "VFEWc6ifTF0z",
      "execution_count": 18,
      "outputs": []
    },
    {
      "cell_type": "code",
      "execution_count": 23,
      "id": "a5f8a33b-703a-433e-9d55-ecedabf644a9",
      "metadata": {
        "id": "a5f8a33b-703a-433e-9d55-ecedabf644a9"
      },
      "outputs": [],
      "source": [
        "def make_hamiltonian(distance):\n",
        "    symbols, coordinates = (['Be', 'H', 'H'], np.array([0., 0., 0., 0., 0., -distance, 0., 0., distance]))\n",
        "    H, qubits = qml.qchem.molecular_hamiltonian(symbols, coordinates, \n",
        "                                                mapping='jordan_wigner',#'bravyi_kitaev', \n",
        "                                                wires=[8 - i for i in range(8)],\n",
        "                                                active_electrons=4,\n",
        "                                                active_orbitals=4)\n",
        "                                                #basis='6-31g')\n",
        "    print(qubits)\n",
        "    return H"
      ]
    },
    {
      "cell_type": "code",
      "execution_count": 24,
      "id": "1f7a8cf6-af98-4cbc-bdd1-199fe4f020bd",
      "metadata": {
        "id": "1f7a8cf6-af98-4cbc-bdd1-199fe4f020bd"
      },
      "outputs": [],
      "source": [
        "@qml.qnode(dev)\n",
        "def circuit(distance, epsilon, time=0.1, trotterN=5):\n",
        "    qml.Hadamard(wires=0)\n",
        "    Prep()\n",
        "    H = make_hamiltonian(distance)\n",
        "    ApproxTimeEvolution(H, time, trotterN)\n",
        "    Prep_inv()\n",
        "    qml.PhaseShift(epsilon * time, wires=0)\n",
        "    qml.Hadamard(wires=0)\n",
        "    return qml.probs(wires=0)"
      ]
    },
    {
      "cell_type": "code",
      "execution_count": 39,
      "id": "f551208a-fa89-4ae8-9469-912775a23d6c",
      "metadata": {
        "id": "f551208a-fa89-4ae8-9469-912775a23d6c",
        "outputId": "7af45bce-1d48-4bb3-d0d9-2c9ea635fba1",
        "colab": {
          "base_uri": "https://localhost:8080/"
        }
      },
      "outputs": [
        {
          "output_type": "stream",
          "name": "stdout",
          "text": [
            "8\n",
            "[0.70077985 0.29922015]\n"
          ]
        }
      ],
      "source": [
        "print(circuit(1.3, -15.8, time=0.1))"
      ]
    },
    {
      "cell_type": "code",
      "execution_count": null,
      "id": "afedcf91-f70a-4fcc-9df2-4fdec57feefc",
      "metadata": {
        "id": "afedcf91-f70a-4fcc-9df2-4fdec57feefc"
      },
      "outputs": [],
      "source": []
    }
  ],
  "metadata": {
    "kernelspec": {
      "display_name": "Python 3",
      "name": "python3"
    },
    "language_info": {
      "name": "python"
    },
    "colab": {
      "provenance": []
    },
    "gpuClass": "standard"
  },
  "nbformat": 4,
  "nbformat_minor": 5
}